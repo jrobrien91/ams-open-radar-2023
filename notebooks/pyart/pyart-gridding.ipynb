{
 "cells": [
  {
   "cell_type": "markdown",
   "metadata": {},
   "source": [
    "<img src=\"../images/logos/arm_logo.png\" width=500 alt=\"ARM Logo\"></img>"
   ]
  },
  {
   "cell_type": "markdown",
   "metadata": {
    "tags": []
   },
   "source": [
    "# Py-ART Gridding \n",
    "---"
   ]
  },
  {
   "cell_type": "markdown",
   "metadata": {},
   "source": [
    "## Overview\n",
    "   \n",
    "Within this notebook, we will cover:\n",
    "\n",
    "1. What is gridding and why is it important?\n",
    "1. An overview of gridding with Py-ART  \n",
    "1. Test out a different gridding routine\n",
    "1. Apply Gridding to a Selection of Files\n"
   ]
  },
  {
   "cell_type": "markdown",
   "metadata": {
    "tags": []
   },
   "source": [
    "## Prerequisites\n",
    "| Concepts | Importance | Notes |\n",
    "| --- | --- | --- |\n",
    "| [Py-ART Basics](pyart-basics) | Helpful | Basic features |\n",
    "| [Intro to Cartopy](https://foundations.projectpythia.org/core/cartopy/cartopy.html) | Helpful | Basic features |\n",
    "| [Matplotlib Basics](https://foundations.projectpythia.org/core/matplotlib/matplotlib-basics.html) | Helpful | Basic plotting |\n",
    "| [NumPy Basics](https://foundations.projectpythia.org/core/numpy/numpy-basics.html) | Helpful | Basic arrays |\n",
    "\n",
    "- **Time to learn**: 15 minutes\n",
    "---"
   ]
  },
  {
   "cell_type": "markdown",
   "metadata": {},
   "source": [
    "## Imports"
   ]
  },
  {
   "cell_type": "code",
   "execution_count": null,
   "metadata": {
    "tags": []
   },
   "outputs": [],
   "source": [
    "import os\n",
    "from pathlib import Path\n",
    "import glob\n",
    "import warnings\n",
    "\n",
    "import cartopy.crs as ccrs\n",
    "import matplotlib.pyplot as plt\n",
    "\n",
    "\n",
    "import pyart\n",
    "from pyart.testing import get_test_data\n",
    "import xarray as xr\n",
    "\n",
    "warnings.filterwarnings('ignore')"
   ]
  },
  {
   "cell_type": "markdown",
   "metadata": {},
   "source": [
    "## What is gridding and why is it important?"
   ]
  },
  {
   "cell_type": "markdown",
   "metadata": {
    "tags": []
   },
   "source": [
    "### Antenna vs. Cartesian Coordinates\n",
    "\n",
    "Radar data, by default, is stored in a **polar (or antenna) coordinate system**, with the data coordinates stored as an angle (ranging from 0 to 360 degrees with 0 == North), and a radius from the radar, and an elevation which is the angle between the ground and the ground.\n",
    "\n",
    "This format can be challenging to plot, since it is scan/radar specific. Also, it can make comparing with model data, which is on a lat/lon grid, challenging since one would need to **transform** the model data cartesian coordinates to polar/antenna coordiantes.\n",
    "\n",
    "Fortunately, PyART has a variety of gridding routines, which can be used to **grid your data to a Cartesian grid**. Once it is in this new grid, one can easily slice/dice the dataset, and compare to other data sources.\n",
    "\n",
    "### Why is Gridding Important?\n",
    "\n",
    "Gridding is essential to combining multiple data sources (ex. multiple radars), and comparing to other data sources (ex. model data). There are also decisions that are made during the gridding process that have a large impact on the regridded data - for example:\n",
    "- What resolution should my grid be?\n",
    "- Which interpolation routine should I use?\n",
    "- How smooth should my interpolated data be?\n",
    "\n",
    "While there is not always a right or wrong answer, it is important to understand the options available, and document which routine you used with your data! Also - experiment with different options and choose the best for your use case!\n",
    "\n"
   ]
  },
  {
   "cell_type": "markdown",
   "metadata": {},
   "source": [
    "## An overview of gridding with Py-ART\n",
    "Let's dig into the regridding process with PyART!"
   ]
  },
  {
   "cell_type": "markdown",
   "metadata": {},
   "source": [
    "### Read in and Visualize a Test Dataset\n",
    "Let's start with the same file used in the previous notebook (`PyART Corrections`), which is a radar file from Northern Oklahoma."
   ]
  },
  {
   "cell_type": "code",
   "execution_count": null,
   "metadata": {
    "tags": []
   },
   "outputs": [],
   "source": [
    "file = \"../../data/uah-armor/RAW_NA_000_125_20080411182229\"\n",
    "radar = pyart.io.read(file)"
   ]
  },
  {
   "cell_type": "markdown",
   "metadata": {},
   "source": [
    "Let's plot up quick look of reflectivity, at the lowest elevation scan (closest to the ground)"
   ]
  },
  {
   "cell_type": "code",
   "execution_count": null,
   "metadata": {
    "tags": []
   },
   "outputs": [],
   "source": [
    "fig = plt.figure(figsize=[12, 12])\n",
    "display = pyart.graph.RadarDisplay(radar)\n",
    "display.plot_ppi('reflectivity',\n",
    "                 cmap='pyart_HomeyerRainbow')"
   ]
  },
  {
   "cell_type": "markdown",
   "metadata": {},
   "source": [
    "As mentioned before, the dataset is currently in the **antenna coordinate system** measured as distance from the radar"
   ]
  },
  {
   "cell_type": "markdown",
   "metadata": {},
   "source": [
    "### Setup our Gridding Routine with `pyart.map.grid_from_radars()`\n",
    "\n",
    "Py-ART has the [Grid object](https://arm-doe.github.io/pyart/API/generated/pyart.core.Grid.html#pyart.core.Grid) which has characteristics similar to that of the [Radar object](https://arm-doe.github.io/pyart/API/generated/pyart.core.Radar.html), except that the data are stored in Cartesian coordinates instead of the radar's antenna coordinates."
   ]
  },
  {
   "cell_type": "code",
   "execution_count": null,
   "metadata": {
    "tags": []
   },
   "outputs": [],
   "source": [
    "pyart.core.Grid?"
   ]
  },
  {
   "cell_type": "markdown",
   "metadata": {},
   "source": [
    "We can **transform our data** into this grid object, from the radars, using `pyart.map.grid_from_radars()`.\n",
    "\n",
    "Beforing gridding our data, we need to make a decision about the desired grid resolution and extent. For example, one might imagine a grid configuration of:\n",
    "- Grid extent/limits\n",
    "    - 20 km in the x-direction (north/south)\n",
    "    - 20 km in the y-direction (west/east)\n",
    "    - 15 km in the z-direction (vertical)\n",
    "- 500 m spatial resolution\n",
    "\n",
    "The `pyart.map.grid_from_radars()` function takes the grid shape and grid limits as input, with the order `(z, y, x)`.\n",
    "\n",
    "Let's setup our configuration, setting our grid extent **first**, with the distance measured in **meters**"
   ]
  },
  {
   "cell_type": "code",
   "execution_count": null,
   "metadata": {
    "tags": []
   },
   "outputs": [],
   "source": [
    "z_grid_limits = (0.,15_000.)\n",
    "y_grid_limits = (-150_000.,150_000.)\n",
    "x_grid_limits = (-150_000.,150_000.)"
   ]
  },
  {
   "cell_type": "markdown",
   "metadata": {},
   "source": [
    "Now that we have our grid limits, we can set our desired resolution (again, in meters)"
   ]
  },
  {
   "cell_type": "code",
   "execution_count": null,
   "metadata": {
    "tags": []
   },
   "outputs": [],
   "source": [
    "grid_resolution = 500"
   ]
  },
  {
   "cell_type": "markdown",
   "metadata": {},
   "source": [
    "Let's compute our grid shape - using the extent and resolution to compute the number of grid points in each direction."
   ]
  },
  {
   "cell_type": "code",
   "execution_count": null,
   "metadata": {
    "tags": []
   },
   "outputs": [],
   "source": [
    "def compute_number_of_points(extent, resolution):\n",
    "    return int((extent[1] - extent[0])/resolution)"
   ]
  },
  {
   "cell_type": "markdown",
   "metadata": {},
   "source": [
    "Now that we have a helper function to compute this, let's apply it to our vertical dimension"
   ]
  },
  {
   "cell_type": "code",
   "execution_count": null,
   "metadata": {
    "tags": []
   },
   "outputs": [],
   "source": [
    "z_grid_points = compute_number_of_points(z_grid_limits, grid_resolution)\n",
    "z_grid_points"
   ]
  },
  {
   "cell_type": "markdown",
   "metadata": {},
   "source": [
    "We can apply this to the horizontal (x, y) dimensions as well."
   ]
  },
  {
   "cell_type": "code",
   "execution_count": null,
   "metadata": {
    "tags": []
   },
   "outputs": [],
   "source": [
    "x_grid_points = compute_number_of_points(x_grid_limits, grid_resolution)\n",
    "y_grid_points = compute_number_of_points(y_grid_limits, grid_resolution)\n",
    "\n",
    "print(z_grid_points,\n",
    "      y_grid_points,\n",
    "      x_grid_points)"
   ]
  },
  {
   "cell_type": "markdown",
   "metadata": {},
   "source": [
    "#### Use our configuration to grid the data!\n",
    "Now that we have the grid shape and grid limits, let's grid up our radar!"
   ]
  },
  {
   "cell_type": "code",
   "execution_count": null,
   "metadata": {
    "tags": []
   },
   "outputs": [],
   "source": [
    "grid = pyart.map.grid_from_radars(radar,\n",
    "                                  grid_shape=(z_grid_points,\n",
    "                                              y_grid_points,\n",
    "                                              x_grid_points),\n",
    "                                  grid_limits=(z_grid_limits,\n",
    "                                               y_grid_limits,\n",
    "                                               x_grid_limits),\n",
    "                                  fields=['reflectivity'],\n",
    "                                  gridding_algo='map_gates_to_grid',\n",
    "                                  h_factor=0.,\n",
    "                                  nb=0.6,\n",
    "                                  bsp=1.,\n",
    "                                  min_radius=200.\n",
    "                                 )\n",
    "grid"
   ]
  },
  {
   "cell_type": "markdown",
   "metadata": {},
   "source": [
    "We now have a `pyart.core.Grid` object!"
   ]
  },
  {
   "cell_type": "markdown",
   "metadata": {},
   "source": [
    "### Plot up the Grid Object\n",
    "\n",
    "#### Plot a horizontal view of the data\n",
    "We can use the `GridMapDisplay` from `pyart.graph` to visualize our regridded data, starting with a horizontal view (slice along a single vertical level)"
   ]
  },
  {
   "cell_type": "code",
   "execution_count": null,
   "metadata": {
    "tags": []
   },
   "outputs": [],
   "source": [
    "display = pyart.graph.GridMapDisplay(grid)\n",
    "display.plot_grid('reflectivity',\n",
    "                  level=2,\n",
    "                  vmin=-20,\n",
    "                  vmax=60,\n",
    "                  cmap='pyart_HomeyerRainbow')"
   ]
  },
  {
   "cell_type": "markdown",
   "metadata": {},
   "source": [
    "#### Plot a Latitudinal Slice"
   ]
  },
  {
   "cell_type": "markdown",
   "metadata": {},
   "source": [
    "We can also slice through a single latitude or longitude!"
   ]
  },
  {
   "cell_type": "code",
   "execution_count": null,
   "metadata": {
    "tags": []
   },
   "outputs": [],
   "source": [
    "display.plot_latitude_slice('reflectivity',\n",
    "                            lat=35.1,\n",
    "                            vmin=-20,\n",
    "                            vmax=60,\n",
    "                            cmap='pyart_HomeyerRainbow')\n",
    "plt.xlim([-20, 20]);"
   ]
  },
  {
   "cell_type": "markdown",
   "metadata": {},
   "source": [
    "#### Plot with Xarray"
   ]
  },
  {
   "cell_type": "markdown",
   "metadata": {},
   "source": [
    "Another neat feature of the `Grid` object is that we can transform it to an `xarray.Dataset`!"
   ]
  },
  {
   "cell_type": "code",
   "execution_count": null,
   "metadata": {
    "tags": []
   },
   "outputs": [],
   "source": [
    "ds = grid.to_xarray()\n",
    "ds"
   ]
  },
  {
   "cell_type": "markdown",
   "metadata": {},
   "source": [
    "Now, our plotting routine is a **one-liner**, starting with the horizontal slice:"
   ]
  },
  {
   "cell_type": "code",
   "execution_count": null,
   "metadata": {
    "tags": []
   },
   "outputs": [],
   "source": [
    "ds.isel(z=2).reflectivity.plot(cmap='pyart_HomeyerRainbow',\n",
    "                               vmin=-20,\n",
    "                               vmax=60);"
   ]
  },
  {
   "cell_type": "markdown",
   "metadata": {},
   "source": [
    "And a vertical slice at a given y dimension (latitude)"
   ]
  },
  {
   "cell_type": "code",
   "execution_count": null,
   "metadata": {
    "tags": []
   },
   "outputs": [],
   "source": [
    "ds.sel(y=-3000,\n",
    "       method='nearest').reflectivity.plot(cmap='pyart_HomeyerRainbow',\n",
    "                                           vmin=-20,\n",
    "                                           vmax=60);"
   ]
  },
  {
   "cell_type": "markdown",
   "metadata": {},
   "source": [
    "### Try a Different Gridding Technique"
   ]
  },
  {
   "cell_type": "code",
   "execution_count": null,
   "metadata": {},
   "outputs": [],
   "source": [
    "nearest_grid = pyart.map.grid_from_radars(radar,\n",
    "                                  grid_shape=(z_grid_points,\n",
    "                                              y_grid_points,\n",
    "                                              x_grid_points),\n",
    "                                  grid_limits=(z_grid_limits,\n",
    "                                               y_grid_limits,\n",
    "                                               x_grid_limits),\n",
    "                                  fields=['reflectivity'],\n",
    "                                  weighting_function='Nearest',\n",
    "                                  nb=0.6,\n",
    "                                  bsp=1.,\n",
    "                                  min_radius=200.\n",
    "                                 )"
   ]
  },
  {
   "cell_type": "code",
   "execution_count": null,
   "metadata": {},
   "outputs": [],
   "source": [
    "display.plot_latitude_slice('reflectivity',\n",
    "                            lat=35.1,\n",
    "                            vmin=-20,\n",
    "                            vmax=60,\n",
    "                            cmap='pyart_HomeyerRainbow')\n",
    "plt.xlim([-20, 20]);"
   ]
  },
  {
   "cell_type": "code",
   "execution_count": null,
   "metadata": {},
   "outputs": [],
   "source": [
    "display = pyart.graph.GridMapDisplay(nearest_grid)\n",
    "display.plot_latitude_slice('reflectivity',\n",
    "                            lat=35.1,\n",
    "                            vmin=-20,\n",
    "                            vmax=60,\n",
    "                            cmap='pyart_HomeyerRainbow')\n",
    "plt.xlim([-20, 20]);"
   ]
  },
  {
   "cell_type": "markdown",
   "metadata": {},
   "source": [
    "## Apply Gridding to a Selection of Files\n",
    "\n",
    "We would like to apply our gridding transformation to an entire list of files, that will enable tracking in future notebooks (ex. tobac). We need to:\n",
    "- Setup a function to grid our data (including saving it to disk)\n",
    "- Provide a list of files to grid"
   ]
  },
  {
   "cell_type": "code",
   "execution_count": null,
   "metadata": {
    "tags": []
   },
   "outputs": [],
   "source": [
    "def grid_radar_data(infile, outdir, grid_resolution=500):\n",
    "    \"\"\"\n",
    "    Parameters\n",
    "    ==========\n",
    "    infile: string, path to file to be gridded\n",
    "    outdir: string, path to directory to save to\n",
    "    grid_resolution: int, desired resolution of field in meters\n",
    "    \n",
    "    Returns\n",
    "    =======\n",
    "    print statement with saved file\n",
    "    \"\"\"\n",
    "    \n",
    "    # Read the data\n",
    "    radar = pyart.io.read(infile)\n",
    "    \n",
    "    # Configure the bounds + compute points\n",
    "    z_grid_limits = (0.,15_000.)\n",
    "    y_grid_limits = (-150_000.,150_000.)\n",
    "    x_grid_limits = (-150_000.,150_000.)\n",
    "    x_grid_points = compute_number_of_points(x_grid_limits, grid_resolution)\n",
    "    y_grid_points = compute_number_of_points(y_grid_limits, grid_resolution)\n",
    "    z_grid_points = compute_number_of_points(z_grid_limits, grid_resolution)\n",
    "    \n",
    "    \n",
    "    # Grid the radar data\n",
    "    grid = pyart.map.grid_from_radars(radar,\n",
    "                                  grid_shape=(z_grid_points,\n",
    "                                              y_grid_points,\n",
    "                                              x_grid_points),\n",
    "                                  grid_limits=(z_grid_limits,\n",
    "                                               y_grid_limits,\n",
    "                                               x_grid_limits),\n",
    "                                  fields=['reflectivity'],\n",
    "                                  weighting_function='Nearest',\n",
    "                                  nb=0.6,\n",
    "                                  bsp=1.,\n",
    "                                  min_radius=200.\n",
    "                                 )\n",
    "    \n",
    "    infile_path = Path(infile)\n",
    "    \n",
    "    outfile = f\"{outdir}/{infile_path.stem}.nc\"\n",
    "    \n",
    "    # Save to disk\n",
    "    grid.to_xarray().to_netcdf(outfile, mode='w')\n",
    "    print(f\"Done gridding + saving {outfile}\")\n",
    "    return outfile"
   ]
  },
  {
   "cell_type": "code",
   "execution_count": null,
   "metadata": {},
   "outputs": [],
   "source": [
    "import fsspec\n",
    "\n",
    "fs = fsspec.filesystem(\"https\")"
   ]
  },
  {
   "cell_type": "code",
   "execution_count": null,
   "metadata": {},
   "outputs": [],
   "source": [
    "files = [\"RAW_NA_000_125_20080411181219\",\n",
    "         \"RAW_NA_000_125_20080411181722\",\n",
    "         \"RAW_NA_000_125_20080411182229\",\n",
    "         \"RAW_NA_000_125_20080411182732\",\n",
    "         \"RAW_NA_000_125_20080411183259\",\n",
    "         \"RAW_NA_000_125_20080411183827\",\n",
    "         \"RAW_NA_000_125_20080411184409\",\n",
    "         \"RAW_NA_000_125_20080411184937\",\n",
    "         \"RAW_NA_000_125_20080411185504\",\n",
    "         \"RAW_NA_000_125_20080411190016\",\n",
    "         \"RAW_NA_000_125_20080411190525\",\n",
    "         \"RAW_NA_000_125_20080411191031\",\n",
    "         \"RAW_NA_000_125_20080411191548\",\n",
    "         \"RAW_NA_000_125_20080411192104\",\n",
    "         \"RAW_NA_000_125_20080411192613\",\n",
    "         \"RAW_NA_000_125_20080411193127\",\n",
    "         \"RAW_NA_000_125_20080411193638\",\n",
    "         \"RAW_NA_000_125_20080411194151\",\n",
    "         \"RAW_NA_000_125_20080411194703\",\n",
    "         \"RAW_NA_000_125_20080411195218\",\n",
    "         \"RAW_NA_000_125_20080411195728\",\n",
    "         \"RAW_NA_000_125_20080411200416\",\n",
    "         \"RAW_NA_000_125_20080411200945\",\n",
    "         \"RAW_NA_000_125_20080411201520\",\n",
    "         \"RAW_NA_000_125_20080411202047\"\n",
    "        ]"
   ]
  },
  {
   "cell_type": "code",
   "execution_count": null,
   "metadata": {},
   "outputs": [],
   "source": [
    "import urllib.request\n",
    "import glob"
   ]
  },
  {
   "cell_type": "code",
   "execution_count": null,
   "metadata": {},
   "outputs": [],
   "source": [
    "def download_file(file, outdir='../../data/uah-armor/'):\n",
    "    urllib.request.urlretrieve(f\"https://github.com/openradar/open-radar-data/raw/main/data/{file}\", f\"{outdir}{file}\")\n",
    "    return f\"{outdir}{file}\""
   ]
  },
  {
   "cell_type": "code",
   "execution_count": null,
   "metadata": {},
   "outputs": [],
   "source": [
    "downloaded_files = [download_file(file) for file in files]"
   ]
  },
  {
   "cell_type": "code",
   "execution_count": null,
   "metadata": {
    "tags": []
   },
   "outputs": [],
   "source": [
    "gridded_data = [grid_radar_data(file,\n",
    "                                \"../../data/uah-armor/gridded\") for file in downloaded_files]\n",
    "    "
   ]
  },
  {
   "cell_type": "markdown",
   "metadata": {},
   "source": [
    "### Read in the Gridded Data and Plot It\n",
    "Now that we have our output, we can read all of it into the same `xarray.Dataset`, and visualize our data!"
   ]
  },
  {
   "cell_type": "code",
   "execution_count": null,
   "metadata": {
    "tags": []
   },
   "outputs": [],
   "source": [
    "ds = xr.open_mfdataset(gridded_data).squeeze()"
   ]
  },
  {
   "cell_type": "code",
   "execution_count": null,
   "metadata": {
    "tags": []
   },
   "outputs": [],
   "source": [
    "ds.reflectivity.isel(z=2).plot(x='x',\n",
    "                               y='y',\n",
    "                               col='time',\n",
    "                               vmin=-20,\n",
    "                               vmax=70,\n",
    "                               cmap='pyart_ChaseSpectral',\n",
    "                               col_wrap=5);"
   ]
  },
  {
   "cell_type": "markdown",
   "metadata": {},
   "source": [
    "---\n",
    "## Summary\n",
    "Within this notebook, we covered the basics of gridding radar data using `pyart`, including:\n",
    "- What we mean by gridding and why is it matters\n",
    "- Configuring your gridding routine\n",
    "- Visualize gridded radar data\n",
    "\n",
    "### What's Next\n",
    "In the next few notebooks, we walk through applying data cleaning methods, and advanced visualization methods!"
   ]
  },
  {
   "cell_type": "markdown",
   "metadata": {},
   "source": [
    "## Resources and References\n",
    "Py-ART essentials links:\n",
    "\n",
    "* [Landing page](https://arm-doe.github.io/pyart/)\n",
    "* [Examples](https://arm-doe.github.io/pyart/examples/index.html)\n",
    "* [Source Code](https://github.com/ARM-DOE/pyart)\n",
    "* [Open Radar Discourse Group](https://openradar.discourse.group/)\n",
    "* [Issue Tracker](https://github.com/ARM-DOE/pyart/issues)"
   ]
  },
  {
   "cell_type": "code",
   "execution_count": null,
   "metadata": {},
   "outputs": [],
   "source": []
  }
 ],
 "metadata": {
  "kernelspec": {
   "display_name": "Python 3 (ipykernel)",
   "language": "python",
   "name": "python3"
  },
  "language_info": {
   "codemirror_mode": {
    "name": "ipython",
    "version": 3
   },
   "file_extension": ".py",
   "mimetype": "text/x-python",
   "name": "python",
   "nbconvert_exporter": "python",
   "pygments_lexer": "ipython3",
   "version": "3.9.16"
  }
 },
 "nbformat": 4,
 "nbformat_minor": 4
}
